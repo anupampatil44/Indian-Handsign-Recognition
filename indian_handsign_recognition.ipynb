{
  "metadata": {
    "kernelspec": {
      "language": "python",
      "display_name": "Python 3",
      "name": "python3"
    },
    "language_info": {
      "name": "python",
      "version": "3.7.12",
      "mimetype": "text/x-python",
      "codemirror_mode": {
        "name": "ipython",
        "version": 3
      },
      "pygments_lexer": "ipython3",
      "nbconvert_exporter": "python",
      "file_extension": ".py"
    },
    "colab": {
      "name": "indian-handsign-recognition.ipynb",
      "provenance": [],
      "collapsed_sections": []
    },
    "accelerator": "GPU"
  },
  "nbformat_minor": 0,
  "nbformat": 4,
  "cells": [
    {
      "cell_type": "code",
      "source": [
        "!mkdir -p ~/.kaggle\n",
        "!cp kaggle.json ~/.kaggle/\n",
        "!chmod 600 ~/.kaggle/kaggle.json"
      ],
      "metadata": {
        "id": "U3jP0SGXdPnn"
      },
      "execution_count": null,
      "outputs": []
    },
    {
      "cell_type": "code",
      "source": [
        "!kaggle datasets download -d prathumarikeri/indian-sign-language-isl"
      ],
      "metadata": {
        "colab": {
          "base_uri": "https://localhost:8080/"
        },
        "id": "G59y4xRbdk30",
        "outputId": "e854fb03-f376-4627-8da0-79e791fbb18d"
      },
      "execution_count": null,
      "outputs": [
        {
          "output_type": "stream",
          "name": "stdout",
          "text": [
            "Downloading indian-sign-language-isl.zip to /content\n",
            " 98% 275M/281M [00:01<00:00, 174MB/s]\n",
            "100% 281M/281M [00:01<00:00, 183MB/s]\n"
          ]
        }
      ]
    },
    {
      "cell_type": "code",
      "source": [
        "import zipfile\n",
        "zip_ref = zipfile.ZipFile(\"/content/indian-sign-language-isl.zip\", \"r\")\n",
        "zip_ref.extractall(\"kaggle\")\n",
        "zip_ref.close()"
      ],
      "metadata": {
        "id": "FijgYJtldyLD"
      },
      "execution_count": null,
      "outputs": []
    },
    {
      "cell_type": "code",
      "source": [
        "from torch.utils.data import DataLoader, Dataset\n",
        "import torchvision.transforms as T\n",
        "import torchvision\n",
        "import torch\n",
        "import torch.nn as nn\n",
        "from torchvision.utils import make_grid\n",
        "from torchvision.utils import save_image\n",
        "from IPython.display import Image\n",
        "import matplotlib.pyplot as plt\n",
        "import numpy as np\n",
        "import random\n",
        "from torch.utils.data import random_split\n",
        "%matplotlib inline"
      ],
      "metadata": {
        "execution": {
          "iopub.status.busy": "2022-01-01T16:20:02.367233Z",
          "iopub.execute_input": "2022-01-01T16:20:02.367614Z",
          "iopub.status.idle": "2022-01-01T16:20:03.975412Z",
          "shell.execute_reply.started": "2022-01-01T16:20:02.367495Z",
          "shell.execute_reply": "2022-01-01T16:20:03.974672Z"
        },
        "trusted": true,
        "id": "r6YU5F65dOEd"
      },
      "execution_count": null,
      "outputs": []
    },
    {
      "cell_type": "code",
      "source": [
        "# import pandas as pd\n",
        "# import os\n",
        "# l=os.listdir(\"/kaggle/input/indian-sign-language-isl/Indian/\")\n",
        "# df=pd.DataFrame({\"path\":[],\"label\":[]})\n",
        "# # s=os.listdir(\"/kaggle/input/indian-sign-language-isl/Indian/\")\n",
        "# for clas in l:\n",
        "#     s=\"/kaggle/input/indian-sign-language-isl/Indian/{}\".format(clas)\n",
        "#     imgpath=os.listdir(s)\n",
        "#     print(\"class:\",clas)\n",
        "    \n",
        "#     for i in imgpath:\n",
        "#         tdf=pd.DataFrame({\"path\":[s+\"/\"+i],\"label\":[clas]})\n",
        "# #         print(tdf)\n",
        "#         df=df.append(tdf,ignore_index=True)\n",
        "# #         print(\"df:\\n\",df)"
      ],
      "metadata": {
        "execution": {
          "iopub.status.busy": "2022-01-01T16:20:03.977208Z",
          "iopub.execute_input": "2022-01-01T16:20:03.977467Z",
          "iopub.status.idle": "2022-01-01T16:20:03.981253Z",
          "shell.execute_reply.started": "2022-01-01T16:20:03.977432Z",
          "shell.execute_reply": "2022-01-01T16:20:03.980584Z"
        },
        "trusted": true,
        "id": "3dMHAAtQdOEi"
      },
      "execution_count": null,
      "outputs": []
    },
    {
      "cell_type": "code",
      "source": [
        "# df"
      ],
      "metadata": {
        "execution": {
          "iopub.status.busy": "2022-01-01T16:20:03.982609Z",
          "iopub.execute_input": "2022-01-01T16:20:03.983044Z",
          "iopub.status.idle": "2022-01-01T16:20:03.990414Z",
          "shell.execute_reply.started": "2022-01-01T16:20:03.983006Z",
          "shell.execute_reply": "2022-01-01T16:20:03.989692Z"
        },
        "trusted": true,
        "id": "45I_nhYbdOEj"
      },
      "execution_count": null,
      "outputs": []
    },
    {
      "cell_type": "code",
      "source": [
        "# df = df.sample(frac=1).reset_index(drop=True)\n",
        "# df"
      ],
      "metadata": {
        "execution": {
          "iopub.status.busy": "2022-01-01T16:20:03.993340Z",
          "iopub.execute_input": "2022-01-01T16:20:03.993767Z",
          "iopub.status.idle": "2022-01-01T16:20:03.997935Z",
          "shell.execute_reply.started": "2022-01-01T16:20:03.993730Z",
          "shell.execute_reply": "2022-01-01T16:20:03.997019Z"
        },
        "trusted": true,
        "id": "lFIVcARmdOEk"
      },
      "execution_count": null,
      "outputs": []
    },
    {
      "cell_type": "code",
      "source": [
        "from torchvision.datasets import ImageFolder\n",
        "\n",
        "data_dir=\"/content/kaggle/Indian\"\n",
        "\n",
        "transformer = torchvision.transforms.Compose(\n",
        "    [  # Applying Augmentation\n",
        "        torchvision.transforms.Resize((224, 224)),\n",
        "        torchvision.transforms.RandomHorizontalFlip(p=0.5),\n",
        "        torchvision.transforms.RandomVerticalFlip(p=0.5),\n",
        "        torchvision.transforms.RandomRotation(40),\n",
        "        torchvision.transforms.ToTensor(),\n",
        "        torchvision.transforms.Normalize(\n",
        "            mean=[0.4914, 0.4822, 0.4465], std=[0.2023, 0.1994, 0.2010]\n",
        "        ),\n",
        "    ]\n",
        ")\n",
        "database = ImageFolder(data_dir, transform=transformer)"
      ],
      "metadata": {
        "execution": {
          "iopub.status.busy": "2022-01-01T16:20:03.999503Z",
          "iopub.execute_input": "2022-01-01T16:20:03.999919Z",
          "iopub.status.idle": "2022-01-01T16:20:16.874098Z",
          "shell.execute_reply.started": "2022-01-01T16:20:03.999881Z",
          "shell.execute_reply": "2022-01-01T16:20:16.873224Z"
        },
        "trusted": true,
        "id": "h-ju9cibdOEk"
      },
      "execution_count": null,
      "outputs": []
    },
    {
      "cell_type": "code",
      "source": [
        "database"
      ],
      "metadata": {
        "execution": {
          "iopub.status.busy": "2022-01-01T16:20:16.875684Z",
          "iopub.execute_input": "2022-01-01T16:20:16.876219Z",
          "iopub.status.idle": "2022-01-01T16:20:16.886323Z",
          "shell.execute_reply.started": "2022-01-01T16:20:16.876176Z",
          "shell.execute_reply": "2022-01-01T16:20:16.885627Z"
        },
        "trusted": true,
        "colab": {
          "base_uri": "https://localhost:8080/"
        },
        "id": "fmgWT5TCdOEl",
        "outputId": "3d0a2c6b-8b62-4356-a6f6-17c2a15ee791"
      },
      "execution_count": null,
      "outputs": [
        {
          "output_type": "execute_result",
          "data": {
            "text/plain": [
              "Dataset ImageFolder\n",
              "    Number of datapoints: 42745\n",
              "    Root location: /content/kaggle/Indian\n",
              "    StandardTransform\n",
              "Transform: Compose(\n",
              "               Resize(size=(224, 224), interpolation=bilinear, max_size=None, antialias=None)\n",
              "               RandomHorizontalFlip(p=0.5)\n",
              "               RandomVerticalFlip(p=0.5)\n",
              "               RandomRotation(degrees=[-40.0, 40.0], interpolation=nearest, expand=False, fill=0)\n",
              "               ToTensor()\n",
              "               Normalize(mean=[0.4914, 0.4822, 0.4465], std=[0.2023, 0.1994, 0.201])\n",
              "           )"
            ]
          },
          "metadata": {},
          "execution_count": 7
        }
      ]
    },
    {
      "cell_type": "code",
      "source": [
        "database.classes"
      ],
      "metadata": {
        "execution": {
          "iopub.status.busy": "2022-01-01T16:20:16.888080Z",
          "iopub.execute_input": "2022-01-01T16:20:16.888475Z",
          "iopub.status.idle": "2022-01-01T16:20:16.897630Z",
          "shell.execute_reply.started": "2022-01-01T16:20:16.888372Z",
          "shell.execute_reply": "2022-01-01T16:20:16.896914Z"
        },
        "trusted": true,
        "colab": {
          "base_uri": "https://localhost:8080/"
        },
        "id": "YUFsmBjcdOEm",
        "outputId": "c21ce301-db69-4848-b89a-9ad6a480e036"
      },
      "execution_count": null,
      "outputs": [
        {
          "output_type": "execute_result",
          "data": {
            "text/plain": [
              "['1',\n",
              " '2',\n",
              " '3',\n",
              " '4',\n",
              " '5',\n",
              " '6',\n",
              " '7',\n",
              " '8',\n",
              " '9',\n",
              " 'A',\n",
              " 'B',\n",
              " 'C',\n",
              " 'D',\n",
              " 'E',\n",
              " 'F',\n",
              " 'G',\n",
              " 'H',\n",
              " 'I',\n",
              " 'J',\n",
              " 'K',\n",
              " 'L',\n",
              " 'M',\n",
              " 'N',\n",
              " 'O',\n",
              " 'P',\n",
              " 'Q',\n",
              " 'R',\n",
              " 'S',\n",
              " 'T',\n",
              " 'U',\n",
              " 'V',\n",
              " 'W',\n",
              " 'X',\n",
              " 'Y',\n",
              " 'Z']"
            ]
          },
          "metadata": {},
          "execution_count": 8
        }
      ]
    },
    {
      "cell_type": "code",
      "source": [
        "def show_batch(dl,invert=True):\n",
        "    for images, labels in dl:\n",
        "        fig, ax = plt.subplots(figsize=(12, 6))\n",
        "        ax.set_xticks([]); ax.set_yticks([])\n",
        "        ax.imshow(make_grid(images, nrow=16).permute(1, 2, 0))\n",
        "        break\n",
        "\n",
        "def show_sample(image, label,invert=True):\n",
        "    print(\"Label :\" +database.classes[label] + \"(\" + str(label) + \")\")\n",
        "    plt.imshow(image.permute(1, 2, 0))"
      ],
      "metadata": {
        "execution": {
          "iopub.status.busy": "2022-01-01T16:20:16.898594Z",
          "iopub.execute_input": "2022-01-01T16:20:16.899363Z",
          "iopub.status.idle": "2022-01-01T16:20:16.906867Z",
          "shell.execute_reply.started": "2022-01-01T16:20:16.899327Z",
          "shell.execute_reply": "2022-01-01T16:20:16.906098Z"
        },
        "trusted": true,
        "id": "P5XrEbv3dOEm"
      },
      "execution_count": null,
      "outputs": []
    },
    {
      "cell_type": "code",
      "source": [
        "show_sample(*database[5])"
      ],
      "metadata": {
        "execution": {
          "iopub.status.busy": "2022-01-01T16:20:16.908754Z",
          "iopub.execute_input": "2022-01-01T16:20:16.909415Z",
          "iopub.status.idle": "2022-01-01T16:20:17.193446Z",
          "shell.execute_reply.started": "2022-01-01T16:20:16.908937Z",
          "shell.execute_reply": "2022-01-01T16:20:17.191936Z"
        },
        "trusted": true,
        "colab": {
          "base_uri": "https://localhost:8080/",
          "height": 326
        },
        "id": "0txdZM1odOEn",
        "outputId": "b2ee108f-270f-4552-83c5-7bd14fcd397f"
      },
      "execution_count": null,
      "outputs": [
        {
          "output_type": "stream",
          "name": "stderr",
          "text": [
            "Clipping input data to the valid range for imshow with RGB data ([0..1] for floats or [0..255] for integers).\n"
          ]
        },
        {
          "output_type": "stream",
          "name": "stdout",
          "text": [
            "Label :1(0)\n"
          ]
        },
        {
          "output_type": "display_data",
          "data": {
            "image/png": "[encoded data removed]",
            "text/plain": [
              "<Figure size 432x288 with 1 Axes>"
            ]
          },
          "metadata": {
            "needs_background": "light"
          }
        }
      ]
    },
    {
      "cell_type": "code",
      "source": [
        "validation_size=3000\n",
        "training_size=42745-validation_size\n",
        "print(training_size)\n",
        "train_ds, val_ds_main = random_split(database,[training_size, validation_size])\n",
        "val_ds, test_ds  = random_split(val_ds_main,[1500, 1500])\n",
        "len(train_ds), len(val_ds)"
      ],
      "metadata": {
        "execution": {
          "iopub.status.busy": "2022-01-01T16:20:49.998123Z",
          "iopub.execute_input": "2022-01-01T16:20:49.998872Z",
          "iopub.status.idle": "2022-01-01T16:20:50.014834Z",
          "shell.execute_reply.started": "2022-01-01T16:20:49.998826Z",
          "shell.execute_reply": "2022-01-01T16:20:50.014013Z"
        },
        "trusted": true,
        "colab": {
          "base_uri": "https://localhost:8080/"
        },
        "id": "gtd7ClTTdOEo",
        "outputId": "43b89f37-0685-4125-f3f4-c3f8c0dc5db0"
      },
      "execution_count": null,
      "outputs": [
        {
          "output_type": "stream",
          "name": "stdout",
          "text": [
            "39745\n"
          ]
        },
        {
          "output_type": "execute_result",
          "data": {
            "text/plain": [
              "(39745, 1500)"
            ]
          },
          "metadata": {},
          "execution_count": 11
        }
      ]
    },
    {
      "cell_type": "code",
      "source": [
        "batch_size=32\n",
        "train_dl = DataLoader(train_ds, batch_size , shuffle=True)\n",
        "val_dl = DataLoader(val_ds,batch_size)\n",
        "test_dl = DataLoader(test_ds, batch_size)"
      ],
      "metadata": {
        "execution": {
          "iopub.status.busy": "2022-01-01T16:20:53.201927Z",
          "iopub.execute_input": "2022-01-01T16:20:53.202702Z",
          "iopub.status.idle": "2022-01-01T16:20:53.209461Z",
          "shell.execute_reply.started": "2022-01-01T16:20:53.202653Z",
          "shell.execute_reply": "2022-01-01T16:20:53.208594Z"
        },
        "trusted": true,
        "id": "9uFZBqTgdOEo"
      },
      "execution_count": null,
      "outputs": []
    },
    {
      "cell_type": "code",
      "source": [
        "show_batch(train_dl,invert=True)"
      ],
      "metadata": {
        "execution": {
          "iopub.status.busy": "2022-01-01T16:21:01.675876Z",
          "iopub.execute_input": "2022-01-01T16:21:01.676634Z",
          "iopub.status.idle": "2022-01-01T16:21:02.478566Z",
          "shell.execute_reply.started": "2022-01-01T16:21:01.676585Z",
          "shell.execute_reply": "2022-01-01T16:21:02.477834Z"
        },
        "trusted": true,
        "colab": {
          "base_uri": "https://localhost:8080/",
          "height": 154
        },
        "id": "nvAe5XOzdOEp",
        "outputId": "ec4b38b4-916d-44cf-8d18-b3b3a1fe490a"
      },
      "execution_count": null,
      "outputs": [
        {
          "output_type": "stream",
          "name": "stderr",
          "text": [
            "Clipping input data to the valid range for imshow with RGB data ([0..1] for floats or [0..255] for integers).\n"
          ]
        },
        {
          "output_type": "display_data",
          "data": {
            "image/png": "[encoded data removed]",
            "text/plain": [
              "<Figure size 864x432 with 1 Axes>"
            ]
          },
          "metadata": {}
        }
      ]
    },
    {
      "cell_type": "code",
      "source": [
        "def accuracy(outputs, labels):\n",
        "    _, preds = torch.max(outputs, dim=1)\n",
        "    return torch.tensor(torch.sum(preds == labels).item() / len(preds))\n",
        "\n",
        "class ImageClassification(nn.Module):\n",
        "    def training_step(self, batch):\n",
        "        images, labels = batch \n",
        "        out = self(images)                  # Generate predictions\n",
        "        loss = torch.nn.functional.cross_entropy(out, labels) # Calculate loss\n",
        "        return loss\n",
        "    \n",
        "    def validation_step(self, batch):\n",
        "        images, labels = batch \n",
        "        out = self(images)                    # Generate predictions\n",
        "        loss = torch.nn.functional.cross_entropy(out, labels)   # Calculate loss\n",
        "        acc = accuracy(out, labels)           # Calculate accuracy\n",
        "        return {'val_loss': loss.detach(), 'val_acc': acc}\n",
        "        \n",
        "    def validation_epoch_end(self, outputs):\n",
        "        batch_losses = [x['val_loss'] for x in outputs]\n",
        "        epoch_loss = torch.stack(batch_losses).mean()   # Combine losses\n",
        "        batch_accs = [x['val_acc'] for x in outputs]\n",
        "        epoch_acc = torch.stack(batch_accs).mean()      # Combine accuracies\n",
        "        return {'val_loss': epoch_loss.item(), 'val_acc': epoch_acc.item()}\n",
        "    \n",
        "    def epoch_end(self, epoch, result):\n",
        "        print(\"Epoch [{}], train_loss: {:.4f}, val_loss: {:.4f}, val_acc: {:.4f}\".format(\n",
        "            epoch, result['train_loss'], result['val_loss'], result['val_acc']))"
      ],
      "metadata": {
        "execution": {
          "iopub.status.busy": "2022-01-01T16:21:02.479987Z",
          "iopub.execute_input": "2022-01-01T16:21:02.480610Z",
          "iopub.status.idle": "2022-01-01T16:21:02.490932Z",
          "shell.execute_reply.started": "2022-01-01T16:21:02.480569Z",
          "shell.execute_reply": "2022-01-01T16:21:02.490229Z"
        },
        "trusted": true,
        "id": "eVkDHGTCdOEp"
      },
      "execution_count": null,
      "outputs": []
    },
    {
      "cell_type": "code",
      "source": [
        "class HandsignModel(ImageClassification):\n",
        "    def __init__(self):\n",
        "        super().__init__()\n",
        "        self.network = nn.Sequential(\n",
        "            nn.Conv2d(in_channels=3, out_channels=32, kernel_size=3, stride=1, padding=1),\n",
        "            nn.ReLU(),\n",
        "            nn.Conv2d(32, 64, kernel_size=3, stride=1, padding=1),\n",
        "            nn.ReLU(),\n",
        "            nn.MaxPool2d(2, 2), \n",
        "\n",
        "            nn.Conv2d(64, 128, kernel_size=3, stride=1, padding=1),\n",
        "            nn.ReLU(),\n",
        "            nn.Conv2d(128, 128, kernel_size=3, stride=1, padding=1),\n",
        "            nn.ReLU(),\n",
        "            nn.MaxPool2d(2, 2), \n",
        "\n",
        "            nn.Conv2d(128, 256, kernel_size=3, stride=1, padding=1),\n",
        "            nn.ReLU(),\n",
        "            nn.Conv2d(256, 256, kernel_size=3, stride=1, padding=1),\n",
        "            nn.ReLU(),\n",
        "            nn.MaxPool2d(2, 2), \n",
        "\n",
        "            nn.Flatten(), \n",
        "            nn.Linear(256*28*28, 1024),\n",
        "            nn.ReLU(),\n",
        "            nn.Linear(1024, 512),\n",
        "            nn.ReLU(),\n",
        "            nn.Linear(512, 35))\n",
        "        \n",
        "    def forward(self, xb):\n",
        "        return self.network(xb)"
      ],
      "metadata": {
        "execution": {
          "iopub.status.busy": "2022-01-01T16:21:02.774332Z",
          "iopub.execute_input": "2022-01-01T16:21:02.774556Z",
          "iopub.status.idle": "2022-01-01T16:21:02.785823Z",
          "shell.execute_reply.started": "2022-01-01T16:21:02.774509Z",
          "shell.execute_reply": "2022-01-01T16:21:02.785059Z"
        },
        "trusted": true,
        "id": "OnhCllKUdOEq"
      },
      "execution_count": null,
      "outputs": []
    },
    {
      "cell_type": "code",
      "source": [
        "model = HandsignModel()\n",
        "model"
      ],
      "metadata": {
        "execution": {
          "iopub.status.busy": "2022-01-01T16:21:03.074853Z",
          "iopub.execute_input": "2022-01-01T16:21:03.075703Z",
          "iopub.status.idle": "2022-01-01T16:21:05.307153Z",
          "shell.execute_reply.started": "2022-01-01T16:21:03.075643Z",
          "shell.execute_reply": "2022-01-01T16:21:05.306403Z"
        },
        "trusted": true,
        "colab": {
          "base_uri": "https://localhost:8080/"
        },
        "id": "dWy6t6nddOEq",
        "outputId": "176b03e8-7015-435a-96e2-4446b6529e5b"
      },
      "execution_count": null,
      "outputs": [
        {
          "output_type": "execute_result",
          "data": {
            "text/plain": [
              "HandsignModel(\n",
              "  (network): Sequential(\n",
              "    (0): Conv2d(3, 32, kernel_size=(3, 3), stride=(1, 1), padding=(1, 1))\n",
              "    (1): ReLU()\n",
              "    (2): Conv2d(32, 64, kernel_size=(3, 3), stride=(1, 1), padding=(1, 1))\n",
              "    (3): ReLU()\n",
              "    (4): MaxPool2d(kernel_size=2, stride=2, padding=0, dilation=1, ceil_mode=False)\n",
              "    (5): Conv2d(64, 128, kernel_size=(3, 3), stride=(1, 1), padding=(1, 1))\n",
              "    (6): ReLU()\n",
              "    (7): Conv2d(128, 128, kernel_size=(3, 3), stride=(1, 1), padding=(1, 1))\n",
              "    (8): ReLU()\n",
              "    (9): MaxPool2d(kernel_size=2, stride=2, padding=0, dilation=1, ceil_mode=False)\n",
              "    (10): Conv2d(128, 256, kernel_size=(3, 3), stride=(1, 1), padding=(1, 1))\n",
              "    (11): ReLU()\n",
              "    (12): Conv2d(256, 256, kernel_size=(3, 3), stride=(1, 1), padding=(1, 1))\n",
              "    (13): ReLU()\n",
              "    (14): MaxPool2d(kernel_size=2, stride=2, padding=0, dilation=1, ceil_mode=False)\n",
              "    (15): Flatten(start_dim=1, end_dim=-1)\n",
              "    (16): Linear(in_features=200704, out_features=1024, bias=True)\n",
              "    (17): ReLU()\n",
              "    (18): Linear(in_features=1024, out_features=512, bias=True)\n",
              "    (19): ReLU()\n",
              "    (20): Linear(in_features=512, out_features=35, bias=True)\n",
              "  )\n",
              ")"
            ]
          },
          "metadata": {},
          "execution_count": 16
        }
      ]
    },
    {
      "cell_type": "code",
      "source": [
        "for images, labels in train_dl:\n",
        "    print('images.shape:', images.shape)\n",
        "    out = model(images)\n",
        "    print('out.shape:', out.shape)\n",
        "    print('out[0]:', out[0])\n",
        "    break"
      ],
      "metadata": {
        "execution": {
          "iopub.status.busy": "2022-01-01T16:21:05.309279Z",
          "iopub.execute_input": "2022-01-01T16:21:05.309565Z",
          "iopub.status.idle": "2022-01-01T16:21:12.985166Z",
          "shell.execute_reply.started": "2022-01-01T16:21:05.309512Z",
          "shell.execute_reply": "2022-01-01T16:21:12.984213Z"
        },
        "trusted": true,
        "colab": {
          "base_uri": "https://localhost:8080/"
        },
        "id": "iDDMSYo8dOEr",
        "outputId": "20b8136f-81d4-4fb4-ecc3-801f95aaec86"
      },
      "execution_count": null,
      "outputs": [
        {
          "output_type": "stream",
          "name": "stdout",
          "text": [
            "images.shape: torch.Size([32, 3, 224, 224])\n",
            "out.shape: torch.Size([32, 35])\n",
            "out[0]: tensor([-0.0042, -0.0406, -0.0225, -0.0219,  0.0291,  0.0125, -0.0073, -0.0216,\n",
            "        -0.0224,  0.0180, -0.0393,  0.0048,  0.0340, -0.0027,  0.0248, -0.0261,\n",
            "        -0.0211,  0.0277, -0.0441, -0.0345, -0.0313, -0.0095, -0.0003,  0.0117,\n",
            "         0.0458,  0.0342,  0.0467,  0.0327, -0.0193,  0.0130, -0.0096,  0.0305,\n",
            "        -0.0279, -0.0360,  0.0103], grad_fn=<SelectBackward0>)\n"
          ]
        }
      ]
    },
    {
      "cell_type": "code",
      "source": [
        "@torch.no_grad()\n",
        "def evaluate(model, val_loader):\n",
        "    model.eval()\n",
        "    outputs = [model.validation_step(batch) for batch in val_loader]\n",
        "    return model.validation_epoch_end(outputs)"
      ],
      "metadata": {
        "execution": {
          "iopub.status.busy": "2022-01-01T16:21:12.986647Z",
          "iopub.execute_input": "2022-01-01T16:21:12.986935Z",
          "iopub.status.idle": "2022-01-01T16:21:12.992289Z",
          "shell.execute_reply.started": "2022-01-01T16:21:12.986897Z",
          "shell.execute_reply": "2022-01-01T16:21:12.991405Z"
        },
        "trusted": true,
        "id": "4NqqcQLVdOEr"
      },
      "execution_count": null,
      "outputs": []
    },
    {
      "cell_type": "code",
      "source": [
        "def fit(epochs, lr, model, train_loader, val_loader, opt_func=torch.optim.Adam):\n",
        "    history = []\n",
        "    optimizer = opt_func(model.parameters(), lr)\n",
        "    for epoch in range(epochs):\n",
        "        # Training Phase \n",
        "        model.train()\n",
        "        train_losses = []\n",
        "        for batch in train_loader:\n",
        "            loss = model.training_step(batch)\n",
        "            train_losses.append(loss)\n",
        "            loss.backward()\n",
        "            optimizer.step()\n",
        "            optimizer.zero_grad()\n",
        "        # Validation phase\n",
        "        result = evaluate(model, val_loader)\n",
        "        result['train_loss'] = torch.stack(train_losses).mean().item()\n",
        "        model.epoch_end(epoch, result)\n",
        "        history.append(result)\n",
        "    return history"
      ],
      "metadata": {
        "execution": {
          "iopub.status.busy": "2022-01-01T16:21:12.995579Z",
          "iopub.execute_input": "2022-01-01T16:21:12.996129Z",
          "iopub.status.idle": "2022-01-01T16:21:13.004030Z",
          "shell.execute_reply.started": "2022-01-01T16:21:12.996089Z",
          "shell.execute_reply": "2022-01-01T16:21:13.003260Z"
        },
        "trusted": true,
        "id": "TAwJ_qfQdOEr"
      },
      "execution_count": null,
      "outputs": []
    },
    {
      "cell_type": "code",
      "source": [
        "def get_default_device():\n",
        "    \"\"\"Pick GPU if available, else CPU\"\"\"\n",
        "    if torch.cuda.is_available():\n",
        "        return torch.device('cuda')\n",
        "    else:\n",
        "        return torch.device('cpu')\n",
        "    \n",
        "def to_device(data, device):\n",
        "    \"\"\"Move tensor(s) to chosen device\"\"\"\n",
        "    if isinstance(data, (list,tuple)):\n",
        "        return [to_device(x, device) for x in data]\n",
        "    return data.to(device, non_blocking=True)"
      ],
      "metadata": {
        "execution": {
          "iopub.status.busy": "2022-01-01T16:21:13.005599Z",
          "iopub.execute_input": "2022-01-01T16:21:13.005876Z",
          "iopub.status.idle": "2022-01-01T16:21:13.018276Z",
          "shell.execute_reply.started": "2022-01-01T16:21:13.005841Z",
          "shell.execute_reply": "2022-01-01T16:21:13.017543Z"
        },
        "trusted": true,
        "id": "6D4ILYLxdOEs"
      },
      "execution_count": null,
      "outputs": []
    },
    {
      "cell_type": "code",
      "source": [
        "device=get_default_device()\n",
        "device"
      ],
      "metadata": {
        "execution": {
          "iopub.status.busy": "2022-01-01T16:21:13.019798Z",
          "iopub.execute_input": "2022-01-01T16:21:13.020140Z",
          "iopub.status.idle": "2022-01-01T16:21:13.078222Z",
          "shell.execute_reply.started": "2022-01-01T16:21:13.020103Z",
          "shell.execute_reply": "2022-01-01T16:21:13.077415Z"
        },
        "trusted": true,
        "colab": {
          "base_uri": "https://localhost:8080/"
        },
        "id": "3_HpJE8RdOEs",
        "outputId": "a3c5e27b-abaa-491b-d042-a97120be045e"
      },
      "execution_count": null,
      "outputs": [
        {
          "output_type": "execute_result",
          "data": {
            "text/plain": [
              "device(type='cuda')"
            ]
          },
          "metadata": {},
          "execution_count": 21
        }
      ]
    },
    {
      "cell_type": "code",
      "source": [
        "class DeviceDataLoader():\n",
        "    \"\"\"Wrap a dataloader to move data to a device\"\"\"\n",
        "    def __init__(self, dl, device):\n",
        "        self.dl = dl\n",
        "        self.device = device\n",
        "        \n",
        "    def __iter__(self):\n",
        "        \"\"\"Yield a batch of data after moving it to device\"\"\"\n",
        "        for b in self.dl: \n",
        "            yield to_device(b, self.device)\n",
        "\n",
        "    def __len__(self):\n",
        "        \"\"\"Number of batches\"\"\"\n",
        "        return len(self.dl)"
      ],
      "metadata": {
        "execution": {
          "iopub.status.busy": "2022-01-01T16:21:13.079753Z",
          "iopub.execute_input": "2022-01-01T16:21:13.080071Z",
          "iopub.status.idle": "2022-01-01T16:21:13.086838Z",
          "shell.execute_reply.started": "2022-01-01T16:21:13.080034Z",
          "shell.execute_reply": "2022-01-01T16:21:13.085951Z"
        },
        "trusted": true,
        "id": "4SCsXI_bdOEs"
      },
      "execution_count": null,
      "outputs": []
    },
    {
      "cell_type": "code",
      "source": [
        "train_dl = DeviceDataLoader(train_dl, device)\n",
        "val_dl = DeviceDataLoader(val_dl, device)\n",
        "to_device(model, device)"
      ],
      "metadata": {
        "execution": {
          "iopub.status.busy": "2022-01-01T16:21:13.088080Z",
          "iopub.execute_input": "2022-01-01T16:21:13.088949Z",
          "iopub.status.idle": "2022-01-01T16:21:15.996078Z",
          "shell.execute_reply.started": "2022-01-01T16:21:13.088908Z",
          "shell.execute_reply": "2022-01-01T16:21:15.995350Z"
        },
        "trusted": true,
        "colab": {
          "base_uri": "https://localhost:8080/"
        },
        "id": "EmCdcgZMdOEs",
        "outputId": "fd5d835c-f0af-42a7-c6ac-50ff6526a023"
      },
      "execution_count": null,
      "outputs": [
        {
          "output_type": "execute_result",
          "data": {
            "text/plain": [
              "HandsignModel(\n",
              "  (network): Sequential(\n",
              "    (0): Conv2d(3, 32, kernel_size=(3, 3), stride=(1, 1), padding=(1, 1))\n",
              "    (1): ReLU()\n",
              "    (2): Conv2d(32, 64, kernel_size=(3, 3), stride=(1, 1), padding=(1, 1))\n",
              "    (3): ReLU()\n",
              "    (4): MaxPool2d(kernel_size=2, stride=2, padding=0, dilation=1, ceil_mode=False)\n",
              "    (5): Conv2d(64, 128, kernel_size=(3, 3), stride=(1, 1), padding=(1, 1))\n",
              "    (6): ReLU()\n",
              "    (7): Conv2d(128, 128, kernel_size=(3, 3), stride=(1, 1), padding=(1, 1))\n",
              "    (8): ReLU()\n",
              "    (9): MaxPool2d(kernel_size=2, stride=2, padding=0, dilation=1, ceil_mode=False)\n",
              "    (10): Conv2d(128, 256, kernel_size=(3, 3), stride=(1, 1), padding=(1, 1))\n",
              "    (11): ReLU()\n",
              "    (12): Conv2d(256, 256, kernel_size=(3, 3), stride=(1, 1), padding=(1, 1))\n",
              "    (13): ReLU()\n",
              "    (14): MaxPool2d(kernel_size=2, stride=2, padding=0, dilation=1, ceil_mode=False)\n",
              "    (15): Flatten(start_dim=1, end_dim=-1)\n",
              "    (16): Linear(in_features=200704, out_features=1024, bias=True)\n",
              "    (17): ReLU()\n",
              "    (18): Linear(in_features=1024, out_features=512, bias=True)\n",
              "    (19): ReLU()\n",
              "    (20): Linear(in_features=512, out_features=35, bias=True)\n",
              "  )\n",
              ")"
            ]
          },
          "metadata": {},
          "execution_count": 23
        }
      ]
    },
    {
      "cell_type": "code",
      "source": [
        "num_epochs = 2\n",
        "opt_func = torch.optim.Adam\n",
        "lr = 0.001"
      ],
      "metadata": {
        "execution": {
          "iopub.status.busy": "2022-01-01T16:21:15.997386Z",
          "iopub.execute_input": "2022-01-01T16:21:15.997674Z",
          "iopub.status.idle": "2022-01-01T16:21:16.002361Z",
          "shell.execute_reply.started": "2022-01-01T16:21:15.997636Z",
          "shell.execute_reply": "2022-01-01T16:21:16.001671Z"
        },
        "trusted": true,
        "id": "ZUxphHHndOEt"
      },
      "execution_count": null,
      "outputs": []
    },
    {
      "cell_type": "code",
      "source": [
        "op=fit(num_epochs, lr, model, train_dl, val_dl, opt_func)"
      ],
      "metadata": {
        "execution": {
          "iopub.status.busy": "2022-01-01T16:21:16.004962Z",
          "iopub.execute_input": "2022-01-01T16:21:16.005450Z"
        },
        "trusted": true,
        "colab": {
          "base_uri": "https://localhost:8080/"
        },
        "id": "kpMmYofzdOEt",
        "outputId": "939ac013-b716-4b4a-e249-1fbe0f9e2233"
      },
      "execution_count": null,
      "outputs": [
        {
          "output_type": "stream",
          "name": "stdout",
          "text": [
            "Epoch [0], train_loss: 0.0481, val_loss: 0.0173, val_acc: 0.9940\n",
            "Epoch [1], train_loss: 0.0542, val_loss: 0.0134, val_acc: 0.9960\n"
          ]
        }
      ]
    },
    {
      "cell_type": "code",
      "source": [
        "from google.colab import drive\n",
        "drive.mount('/content/drive')"
      ],
      "metadata": {
        "colab": {
          "base_uri": "https://localhost:8080/"
        },
        "id": "HFm7wyKCtT5Q",
        "outputId": "7159ca60-d99a-4961-c0ae-1893cc6caf69"
      },
      "execution_count": null,
      "outputs": [
        {
          "output_type": "stream",
          "name": "stdout",
          "text": [
            "Mounted at /content/drive\n"
          ]
        }
      ]
    },
    {
      "cell_type": "code",
      "source": [
        "torch.save(model,'/content/drive/MyDrive/indian-sign-language-cnn.pth')"
      ],
      "metadata": {
        "id": "HkBzKp1qdOEt"
      },
      "execution_count": null,
      "outputs": []
    },
    {
      "cell_type": "code",
      "source": [
        "label_dict={}\n",
        "temp_l=['1','2','3','4','5','6','7','8','9','A','B','C',\n",
        " 'D',\n",
        " 'E',\n",
        " 'F',\n",
        " 'G',\n",
        " 'H',\n",
        " 'I',\n",
        " 'J',\n",
        " 'K',\n",
        " 'L',\n",
        " 'M',\n",
        " 'N',\n",
        " 'O',\n",
        " 'P',\n",
        " 'Q',\n",
        " 'R',\n",
        " 'S',\n",
        " 'T',\n",
        " 'U',\n",
        " 'V',\n",
        " 'W',\n",
        " 'X',\n",
        " 'Y',\n",
        " 'Z']\n",
        "\n",
        "for i in range(len(temp_l)):\n",
        "  label_dict[i]=temp_l[i]\n",
        "\n",
        "print(label_dict)\n"
      ],
      "metadata": {
        "colab": {
          "base_uri": "https://localhost:8080/"
        },
        "id": "6TCJWPWjww2V",
        "outputId": "1b7b0d53-d066-4e52-9369-98e16f4e317e"
      },
      "execution_count": null,
      "outputs": [
        {
          "output_type": "stream",
          "name": "stdout",
          "text": [
            "{0: '1', 1: '2', 2: '3', 3: '4', 4: '5', 5: '6', 6: '7', 7: '8', 8: '9', 9: 'A', 10: 'B', 11: 'C', 12: 'D', 13: 'E', 14: 'F', 15: 'G', 16: 'H', 17: 'I', 18: 'J', 19: 'K', 20: 'L', 21: 'M', 22: 'N', 23: 'O', 24: 'P', 25: 'Q', 26: 'R', 27: 'S', 28: 'T', 29: 'U', 30: 'V', 31: 'W', 32: 'X', 33: 'Y', 34: 'Z'}\n"
          ]
        }
      ]
    },
    {
      "cell_type": "code",
      "source": [
        "def predict(img, model):\n",
        "    xb = img.unsqueeze(0)\n",
        "    yb = model(xb)\n",
        "    _, preds  = torch.max(yb, dim=1)\n",
        "    return label_dict[preds[0].item()]"
      ],
      "metadata": {
        "id": "TRW8BmJRtz67"
      },
      "execution_count": null,
      "outputs": []
    },
    {
      "cell_type": "code",
      "source": [
        "img, label = test_ds[1]\n",
        "print(\"label:\",label)\n",
        "model.to(\"cpu\")\n",
        "\n",
        "plt.imshow(img[0], cmap='gray')\n",
        "# predict(img, model)\n",
        "print('Label:', database.classes[label], ', Predicted:', predict(img, model))"
      ],
      "metadata": {
        "colab": {
          "base_uri": "https://localhost:8080/",
          "height": 306
        },
        "id": "AZqevuFOulBz",
        "outputId": "c4a6b291-eb11-4581-8ee0-06d1c8d31332"
      },
      "execution_count": null,
      "outputs": [
        {
          "output_type": "stream",
          "name": "stdout",
          "text": [
            "label: 28\n",
            "Label: T , Predicted: T\n"
          ]
        },
        {
          "output_type": "display_data",
          "data": {
            "image/png": "[encoded data removed]",
            "text/plain": [
              "<Figure size 432x288 with 1 Axes>"
            ]
          },
          "metadata": {
            "needs_background": "light"
          }
        }
      ]
    },
    {
      "cell_type": "code",
      "source": [
        "evaluate(model, test_dl)"
      ],
      "metadata": {
        "colab": {
          "base_uri": "https://localhost:8080/"
        },
        "id": "cgrDSS77xh92",
        "outputId": "95b595a4-7a6b-4019-b5ba-8d416c856b1a"
      },
      "execution_count": null,
      "outputs": [
        {
          "output_type": "execute_result",
          "data": {
            "text/plain": [
              "{'val_acc': 0.9972454905509949, 'val_loss': 0.011544949375092983}"
            ]
          },
          "metadata": {},
          "execution_count": 50
        }
      ]
    },
    {
      "cell_type": "code",
      "source": [
        ""
      ],
      "metadata": {
        "id": "OfaXy6pYz_Qj"
      },
      "execution_count": null,
      "outputs": []
    }
  ]
}